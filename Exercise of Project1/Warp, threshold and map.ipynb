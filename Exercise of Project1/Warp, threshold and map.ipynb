{
 "cells": [
  {
   "cell_type": "code",
   "execution_count": 1,
   "metadata": {
    "collapsed": true
   },
   "outputs": [],
   "source": [
    "import numpy as np\n",
    "import cv2\n",
    "\n",
    "def perspect_transform(img):\n",
    "    \n",
    "    img_size = (img.shape[1], img.shape[0])\n",
    "    # Define calibration box in source (actual) and destination (desired) coordinates\n",
    "    # These source and destination points are defined to warp the image\n",
    "    # to a grid where each 10x10 pixel square represents 1 square meter\n",
    "    dst_size = 5 \n",
    "    # Set a bottom offset to account for the fact that the bottom of the image \n",
    "    # is not the position of the rover but a bit in front of it\n",
    "    bottom_offset = 6\n",
    "    src = np.float32([[14, 140], [301 ,140],[200, 96], [118, 96]])\n",
    "    dst = np.float32([[img_size[0]/2 - dst_size, img_size[1] - bottom_offset],\n",
    "                      [img_size[0]/2 + dst_size, img_size[1] - bottom_offset],\n",
    "                      [img_size[0]/2 + dst_size, img_size[1] - 2*dst_size - bottom_offset], \n",
    "                      [img_size[0]/2 - dst_size, img_size[1] - 2*dst_size - bottom_offset],\n",
    "                      ])\n",
    "       \n",
    "    M = cv2.getPerspectiveTransform(src, dst)\n",
    "    warped = cv2.warpPerspective(img, M, img_size)# keep same size as input image\n",
    "    return warped\n",
    "\n",
    "def color_thresh(img, rgb_thresh=(160, 160, 160)):\n",
    "    # Create an array of zeros same xy size as img, but single channel\n",
    "    color_select = np.zeros_like(img[:,:,0])\n",
    "    # Require that each pixel be above all thre threshold values in RGB\n",
    "    # above_thresh will now contain a boolean array with \"True\"\n",
    "    # where threshold was met\n",
    "    above_thresh = (img[:,:,0] > rgb_thresh[0]) \\\n",
    "                & (img[:,:,1] > rgb_thresh[1]) \\\n",
    "                & (img[:,:,2] > rgb_thresh[2])\n",
    "    # Index the array of zeros with the boolean array and set to 1\n",
    "    color_select[above_thresh] = 1\n",
    "    # Return the binary image\n",
    "    return color_select"
   ]
  },
  {
   "cell_type": "code",
   "execution_count": 15,
   "metadata": {
    "collapsed": false
   },
   "outputs": [
    {
     "data": {
      "text/plain": [
       "<matplotlib.text.Text at 0x112c8a6d8>"
      ]
     },
     "execution_count": 15,
     "metadata": {},
     "output_type": "execute_result"
    },
    {
     "data": {
      "image/png": "[encoded data removed]",
      "text/plain": [
       "<matplotlib.figure.Figure at 0x113538ba8>"
      ]
     },
     "metadata": {},
     "output_type": "display_data"
    },
    {
     "data": {
      "image/png": "[encoded data removed]",
      "text/plain": [
       "<matplotlib.figure.Figure at 0x112870a58>"
      ]
     },
     "metadata": {},
     "output_type": "display_data"
    }
   ],
   "source": [
    "import matplotlib.pyplot as plt\n",
    "import matplotlib.image as mpimg\n",
    "import numpy as np\n",
    "import cv2\n",
    "%matplotlib inline\n",
    "# Read in the sample image\n",
    "image = mpimg.imread('sample.jpg')\n",
    "\n",
    "\n",
    "def rover_coords1(binary_img):\n",
    "    # Calculate pixel positions with reference to the rover position being at the \n",
    "    # center bottom of the image.  \n",
    "    x_pixel, y_pixel = binary_img.nonzero()\n",
    "    y_pixel -= 160\n",
    "    x_pixel = 160-x_pixel\n",
    "    return x_pixel, y_pixel\n",
    "\n",
    "# answer from the lesson\n",
    "def rover_coords(binary_img):\n",
    "    # Identify nonzero pixels\n",
    "    ypos, xpos = binary_img.nonzero()\n",
    "    # Calculate pixel positions with reference to the rover position being at the \n",
    "    # center bottom of the image.  \n",
    "    x_pixel = np.absolute(ypos - binary_img.shape[0]).astype(np.float)\n",
    "    y_pixel = -(xpos - binary_img.shape[0]).astype(np.float)\n",
    "    return x_pixel, y_pixel\n",
    "\n",
    "# Perform warping and color thresholding\n",
    "warped = perspect_transform(image)\n",
    "colorsel = color_thresh(warped, rgb_thresh=(160, 160, 160))\n",
    "plt.imshow(colorsel)\n",
    "\n",
    "# Extract x and y positions of navigable terrain pixels\n",
    "# and convert to rover coordinates\n",
    "xpix, ypix = rover_coords(colorsel)\n",
    "\n",
    "# Plot the map in rover-centric coords\n",
    "fig = plt.figure(figsize=(5, 7.5))\n",
    "plt.plot(xpix, ypix, '.')\n",
    "plt.ylim(-160, 160)\n",
    "plt.xlim(0, 160)\n",
    "plt.title('Rover-Centric Map', fontsize=20)\n"
   ]
  },
  {
   "cell_type": "code",
   "execution_count": null,
   "metadata": {
    "collapsed": true
   },
   "outputs": [],
   "source": []
  },
  {
   "cell_type": "code",
   "execution_count": null,
   "metadata": {
    "collapsed": true
   },
   "outputs": [],
   "source": []
  }
 ],
 "metadata": {
  "anaconda-cloud": {},
  "kernelspec": {
   "display_name": "Python [conda env:carnd-term1]",
   "language": "python",
   "name": "conda-env-carnd-term1-py"
  },
  "language_info": {
   "codemirror_mode": {
    "name": "ipython",
    "version": 3
   },
   "file_extension": ".py",
   "mimetype": "text/x-python",
   "name": "python",
   "nbconvert_exporter": "python",
   "pygments_lexer": "ipython3",
   "version": "3.5.2"
  }
 },
 "nbformat": 4,
 "nbformat_minor": 1
}
